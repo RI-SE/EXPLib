{
 "cells": [
  {
   "cell_type": "code",
   "execution_count": 1,
   "id": "e3df217c",
   "metadata": {},
   "outputs": [],
   "source": [
    "import os\n",
    "from pathlib import Path\n",
    "\n",
    "def root_dir(marker=\"EXPLib\"):\n",
    "    cwd = Path.cwd()\n",
    "    # if cwd already contains the marker\n",
    "    if (cwd / marker).is_dir():\n",
    "        return cwd\n",
    "    # otherwise walk up the parents\n",
    "    for p in cwd.parents:\n",
    "        if (p / marker).is_dir():\n",
    "            return p\n",
    "    raise FileNotFoundError(f\"Root marker '{marker}' not found\")\n",
    "\n",
    "os.chdir(root_dir())\n",
    "#print(os.getcwd())"
   ]
  },
  {
   "cell_type": "code",
   "execution_count": 2,
   "id": "e1a09bc4",
   "metadata": {},
   "outputs": [],
   "source": [
    "import torch\n",
    "import torchvision\n",
    "from EXPLib.xai_library.metric_extractors.structural_coverage import NeuronCoverage, TopKNeuronCoverage, NeuronBoundaryCoverage\n",
    "from EXPLib.xai_library.model_explainers.model_utils.toymodel_utils import load_and_configure_model, preprocess_image"
   ]
  },
  {
   "cell_type": "code",
   "execution_count": 3,
   "id": "f6a46137",
   "metadata": {},
   "outputs": [],
   "source": [
    "weight_path = './EXPLib/dl_component/CNN/Object_Detectors/toy_model_v1'\n",
    "img_path = './EXPLib/datasets/Camera/toy_model_v1_inference/dev/images'\n",
    "image_file='rgb_0000079.png'\n",
    "model_name = 'ssdlite320_mobilenet_v3_large'\n",
    "weight_file = 'aikonet_toymodelv1_ssdlite.pth'\n",
    "num_classes = 2\n",
    "im_size = 320\n",
    "\n",
    "device = 'cuda' if torch.cuda.is_available() else 'cpu' "
   ]
  },
  {
   "cell_type": "code",
   "execution_count": 4,
   "id": "275efc9f",
   "metadata": {},
   "outputs": [],
   "source": [
    "toymodel = load_and_configure_model(model_name, weight_path, weight_file, num_classes, device)\n",
    "image = preprocess_image(img_path, image_file, device)"
   ]
  },
  {
   "cell_type": "code",
   "execution_count": null,
   "id": "459765b7",
   "metadata": {},
   "outputs": [
    {
     "name": "stdout",
     "output_type": "stream",
     "text": [
      "Neuron Coverage: 48.7696%\n",
      "Top-K Neuron Coverage: 0.0053%\n",
      "Boundary Coverage: 95.9771%\n"
     ]
    }
   ],
   "source": [
    "toymodel.eval()\n",
    "input_tensor = image\n",
    "\n",
    "nc = NeuronCoverage(toymodel)\n",
    "tknc = TopKNeuronCoverage(toymodel, top_k=500)\n",
    "nbc = NeuronBoundaryCoverage(toymodel)\n",
    "\n",
    "neuron_cov = nc.compute_coverage(input_tensor)\n",
    "topk_cov = tknc.compute_coverage(input_tensor)\n",
    "boundary_cov = nbc.compute_boundary_coverage(input_tensor, input_tensor + 0.01)\n",
    "\n",
    "print(f\"Neuron Coverage: {neuron_cov:.4f}%\")\n",
    "print(f\"Top-K Neuron Coverage: {topk_cov:.4f}%\")\n",
    "print(f\"Boundary Coverage: {boundary_cov:.4f}%\")\n",
    "\n",
    "nc.clear_hooks()\n",
    "tknc.clear_hooks()\n",
    "nbc.clear_hooks()"
   ]
  }
 ],
 "metadata": {
  "kernelspec": {
   "display_name": "base",
   "language": "python",
   "name": "python3"
  },
  "language_info": {
   "codemirror_mode": {
    "name": "ipython",
    "version": 3
   },
   "file_extension": ".py",
   "mimetype": "text/x-python",
   "name": "python",
   "nbconvert_exporter": "python",
   "pygments_lexer": "ipython3",
   "version": "3.12.7"
  }
 },
 "nbformat": 4,
 "nbformat_minor": 5
}
